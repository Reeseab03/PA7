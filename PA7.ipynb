{
 "cells": [
  {
   "cell_type": "markdown",
   "id": "c7bb0350",
   "metadata": {},
   "source": [
    "# Assignment 7"
   ]
  },
  {
   "cell_type": "markdown",
   "id": "a1da15b0",
   "metadata": {},
   "source": [
    "## CS-150"
   ]
  },
  {
   "cell_type": "markdown",
   "id": "a1be7d3b",
   "metadata": {},
   "source": [
    "### Reese Bottorff"
   ]
  },
  {
   "cell_type": "code",
   "execution_count": 55,
   "id": "afdda08b",
   "metadata": {},
   "outputs": [],
   "source": [
    "import math\n",
    "\n",
    "\n",
    "def scientific_calculator():\n",
    "    print(\"1. Addition\")\n",
    "    print(\"2. Subtraction\")\n",
    "    print(\"3. Multiplication\")\n",
    "    print(\"4. Division\")\n",
    "    print(\"5. Exponentiation\")\n",
    "    print(\"6. Square root\")\n",
    "    print(\"7. Logarithm (base 10)\")\n",
    "    print(\"8. Natural logarithm (base e)\")\n",
    "    print(\"9. Sine\")\n",
    "    print(\"10. Cosine\")\n",
    "    print(\"11. Tangent\")\n",
    "    print(\"12. Round\")\n",
    "    print(\"13. Ceiling\")\n",
    "    print(\"14. Floor\")\n",
    "    print(\"15. Degrees to radians\")\n",
    "    \n",
    "    choice=int(input(\"Choose an operation (1-15): \"))\n",
    "    \n",
    "    if choice==1:\n",
    "        num1=int(input(\"Enter the first number: \"))\n",
    "        num2=int(input(\"Enter the second number: \"))\n",
    "        return num1+num2\n",
    "    elif choice==2:\n",
    "        num1=int(input(\"Enter the first number: \"))\n",
    "        num2=int(input(\"Enter the second number: \"))\n",
    "        return num1-num2\n",
    "    elif choice==3:\n",
    "        num1=int(input(\"Enter the first number: \"))\n",
    "        num2=int(input(\"Enter the second number: \"))\n",
    "        return num1*num2\n",
    "    elif choice==4:\n",
    "        num1=int(input(\"Enter the first number: \"))\n",
    "        num2=int(input(\"Enter the second number: \"))\n",
    "        return num1/num2\n",
    "    elif choice==5:\n",
    "        num1=int(input(\"Enter the first number: \"))\n",
    "        num2=int(input(\"Enter the second number: \"))\n",
    "        return num1**num2\n",
    "    elif choice==6:\n",
    "        num=int(input(\"Enter the a number: \"))\n",
    "        return math.sqrt(num)\n",
    "    elif choice==7:\n",
    "        num=int(input(\"Enter the a number: \"))\n",
    "        return math.log10(num)\n",
    "    elif choice==8:\n",
    "        num=int(input(\"Enter the a number: \"))\n",
    "        return math.log(num)\n",
    "    elif choice==9:\n",
    "        num=int(input(\"Enter the a number: \"))\n",
    "        return math.sin(num)\n",
    "    elif choice==10:\n",
    "        num=int(input(\"Enter the a number: \"))\n",
    "        return math.cos(num)\n",
    "    elif choice==11:\n",
    "        num=int(input(\"Enter the a number: \"))\n",
    "        return math.tan(num)\n",
    "    elif choice==12:\n",
    "        num=float(input(\"Enter the floating number: \"))\n",
    "        return round(num)\n",
    "    elif choice==13:\n",
    "        num=float(input(\"Enter the floating number: \"))\n",
    "        return math.ceil(num)\n",
    "    elif choice==14:\n",
    "        num=float(input(\"Enter the floating number: \"))\n",
    "        return math.floor(num)\n",
    "    elif choice==15:\n",
    "        num=int(input(\"Enter the a number: \"))\n",
    "        return math.radians(num)\n",
    "    else:\n",
    "        print(\"Invalid choice\")"
   ]
  },
  {
   "cell_type": "code",
   "execution_count": 56,
   "id": "4334e4ac",
   "metadata": {},
   "outputs": [
    {
     "name": "stdout",
     "output_type": "stream",
     "text": [
      "1. Addition\n",
      "2. Subtraction\n",
      "3. Multiplication\n",
      "4. Division\n",
      "5. Exponentiation\n",
      "6. Square root\n",
      "7. Logarithm (base 10)\n",
      "8. Natural logarithm (base e)\n",
      "9. Sine\n",
      "10. Cosine\n",
      "11. Tangent\n",
      "12. Round\n",
      "13. Ceiling\n",
      "14. Floor\n",
      "15. Degrees to radians\n",
      "Choose an operation (1-15): 3\n",
      "Enter the first number: 2\n",
      "Enter the second number: 3\n"
     ]
    },
    {
     "data": {
      "text/plain": [
       "6"
      ]
     },
     "execution_count": 56,
     "metadata": {},
     "output_type": "execute_result"
    }
   ],
   "source": [
    "scientific_calculator()"
   ]
  },
  {
   "cell_type": "code",
   "execution_count": null,
   "id": "ad5c2aff",
   "metadata": {},
   "outputs": [],
   "source": []
  }
 ],
 "metadata": {
  "kernelspec": {
   "display_name": "Python 3 (ipykernel)",
   "language": "python",
   "name": "python3"
  },
  "language_info": {
   "codemirror_mode": {
    "name": "ipython",
    "version": 3
   },
   "file_extension": ".py",
   "mimetype": "text/x-python",
   "name": "python",
   "nbconvert_exporter": "python",
   "pygments_lexer": "ipython3",
   "version": "3.9.13"
  }
 },
 "nbformat": 4,
 "nbformat_minor": 5
}
